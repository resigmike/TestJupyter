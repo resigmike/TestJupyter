{
 "cells": [
  {
   "cell_type": "markdown",
   "metadata": {},
   "source": [
    "# Sample Headline\n",
    "\n",
    "*Note: This text will be italicized\n",
    "\n",
    "## Another Headline (H2)\n",
    "\n",
    "This is a normal paragraph. Filled with words of wisdom and interesting scientific information.\n",
    "\n",
    "Basic formatting of *italics* and **bold** is supported. This *can be **nested** like* so.\n",
    "\n",
    "### What this notebook shows\n",
    "\n",
    "1. How to get started with notebooks\n",
    "2. How to execute code\n",
    "3. How to markdown\n",
    "4. and other stuff"
   ]
  },
  {
   "cell_type": "code",
   "execution_count": null,
   "metadata": {},
   "outputs": [],
   "source": [
    "\"hello world!\""
   ]
  },
  {
   "cell_type": "code",
   "execution_count": null,
   "metadata": {
    "collapsed": true
   },
   "outputs": [],
   "source": [
    "% \"line magic\"\n",
    "%% \"cell magic\""
   ]
  },
  {
   "cell_type": "code",
   "execution_count": null,
   "metadata": {},
   "outputs": [],
   "source": [
    "%lsmagic"
   ]
  },
  {
   "cell_type": "code",
   "execution_count": 36,
   "metadata": {},
   "outputs": [],
   "source": [
    "import numpy as np\n",
    "import bokeh.plotting as bp\n",
    "from bokeh.io import output_notebook, push_notebook, show"
   ]
  },
  {
   "cell_type": "code",
   "execution_count": 37,
   "metadata": {
    "collapsed": true
   },
   "outputs": [],
   "source": [
    "N = 50"
   ]
  },
  {
   "cell_type": "code",
   "execution_count": 38,
   "metadata": {
    "collapsed": true
   },
   "outputs": [],
   "source": [
    "x = np.random.random(size = N)*100\n",
    "y = np.random.random(size = N)*100\n",
    "radii = np.random.random(size = N)*1.5"
   ]
  },
  {
   "cell_type": "code",
   "execution_count": 39,
   "metadata": {},
   "outputs": [
    {
     "data": {
      "text/html": [
       "\n",
       "    <div class=\"bk-root\">\n",
       "        <a href=\"http://bokeh.pydata.org\" target=\"_blank\" class=\"bk-logo bk-logo-small bk-logo-notebook\"></a>\n",
       "        <span id=\"1fa378be-3d83-4d7d-83cf-5d8c3fa13ea9\">Loading BokehJS ...</span>\n",
       "    </div>"
      ]
     },
     "metadata": {},
     "output_type": "display_data"
    },
    {
     "data": {
      "application/javascript": [
       "\n",
       "(function(global) {\n",
       "  function now() {\n",
       "    return new Date();\n",
       "  }\n",
       "\n",
       "  var force = true;\n",
       "\n",
       "  if (typeof (window._bokeh_onload_callbacks) === \"undefined\" || force === true) {\n",
       "    window._bokeh_onload_callbacks = [];\n",
       "    window._bokeh_is_loading = undefined;\n",
       "  }\n",
       "\n",
       "\n",
       "  \n",
       "  if (typeof (window._bokeh_timeout) === \"undefined\" || force === true) {\n",
       "    window._bokeh_timeout = Date.now() + 5000;\n",
       "    window._bokeh_failed_load = false;\n",
       "  }\n",
       "\n",
       "  var NB_LOAD_WARNING = {'data': {'text/html':\n",
       "     \"<div style='background-color: #fdd'>\\n\"+\n",
       "     \"<p>\\n\"+\n",
       "     \"BokehJS does not appear to have successfully loaded. If loading BokehJS from CDN, this \\n\"+\n",
       "     \"may be due to a slow or bad network connection. Possible fixes:\\n\"+\n",
       "     \"</p>\\n\"+\n",
       "     \"<ul>\\n\"+\n",
       "     \"<li>re-rerun `output_notebook()` to attempt to load from CDN again, or</li>\\n\"+\n",
       "     \"<li>use INLINE resources instead, as so:</li>\\n\"+\n",
       "     \"</ul>\\n\"+\n",
       "     \"<code>\\n\"+\n",
       "     \"from bokeh.resources import INLINE\\n\"+\n",
       "     \"output_notebook(resources=INLINE)\\n\"+\n",
       "     \"</code>\\n\"+\n",
       "     \"</div>\"}};\n",
       "\n",
       "  function display_loaded() {\n",
       "    if (window.Bokeh !== undefined) {\n",
       "      var el = document.getElementById(\"1fa378be-3d83-4d7d-83cf-5d8c3fa13ea9\");\n",
       "      el.textContent = \"BokehJS \" + Bokeh.version + \" successfully loaded.\";\n",
       "    } else if (Date.now() < window._bokeh_timeout) {\n",
       "      setTimeout(display_loaded, 100)\n",
       "    }\n",
       "  }\n",
       "\n",
       "  function run_callbacks() {\n",
       "    try {\n",
       "      window._bokeh_onload_callbacks.forEach(function(callback) { callback() });\n",
       "    }\n",
       "    finally {\n",
       "      delete window._bokeh_onload_callbacks\n",
       "    }\n",
       "    console.info(\"Bokeh: all callbacks have finished\");\n",
       "  }\n",
       "\n",
       "  function load_libs(js_urls, callback) {\n",
       "    window._bokeh_onload_callbacks.push(callback);\n",
       "    if (window._bokeh_is_loading > 0) {\n",
       "      console.log(\"Bokeh: BokehJS is being loaded, scheduling callback at\", now());\n",
       "      return null;\n",
       "    }\n",
       "    if (js_urls == null || js_urls.length === 0) {\n",
       "      run_callbacks();\n",
       "      return null;\n",
       "    }\n",
       "    console.log(\"Bokeh: BokehJS not loaded, scheduling load and callback at\", now());\n",
       "    window._bokeh_is_loading = js_urls.length;\n",
       "    for (var i = 0; i < js_urls.length; i++) {\n",
       "      var url = js_urls[i];\n",
       "      var s = document.createElement('script');\n",
       "      s.src = url;\n",
       "      s.async = false;\n",
       "      s.onreadystatechange = s.onload = function() {\n",
       "        window._bokeh_is_loading--;\n",
       "        if (window._bokeh_is_loading === 0) {\n",
       "          console.log(\"Bokeh: all BokehJS libraries loaded\");\n",
       "          run_callbacks()\n",
       "        }\n",
       "      };\n",
       "      s.onerror = function() {\n",
       "        console.warn(\"failed to load library \" + url);\n",
       "      };\n",
       "      console.log(\"Bokeh: injecting script tag for BokehJS library: \", url);\n",
       "      document.getElementsByTagName(\"head\")[0].appendChild(s);\n",
       "    }\n",
       "  };var element = document.getElementById(\"1fa378be-3d83-4d7d-83cf-5d8c3fa13ea9\");\n",
       "  if (element == null) {\n",
       "    console.log(\"Bokeh: ERROR: autoload.js configured with elementid '1fa378be-3d83-4d7d-83cf-5d8c3fa13ea9' but no matching script tag was found. \")\n",
       "    return false;\n",
       "  }\n",
       "\n",
       "  var js_urls = [\"https://cdn.pydata.org/bokeh/release/bokeh-0.12.6.min.js\", \"https://cdn.pydata.org/bokeh/release/bokeh-widgets-0.12.6.min.js\"];\n",
       "\n",
       "  var inline_js = [\n",
       "    function(Bokeh) {\n",
       "      Bokeh.set_log_level(\"info\");\n",
       "    },\n",
       "    \n",
       "    function(Bokeh) {\n",
       "      \n",
       "    },\n",
       "    \n",
       "    function(Bokeh) {\n",
       "      \n",
       "      document.getElementById(\"1fa378be-3d83-4d7d-83cf-5d8c3fa13ea9\").textContent = \"BokehJS is loading...\";\n",
       "    },\n",
       "    function(Bokeh) {\n",
       "      console.log(\"Bokeh: injecting CSS: https://cdn.pydata.org/bokeh/release/bokeh-0.12.6.min.css\");\n",
       "      Bokeh.embed.inject_css(\"https://cdn.pydata.org/bokeh/release/bokeh-0.12.6.min.css\");\n",
       "      console.log(\"Bokeh: injecting CSS: https://cdn.pydata.org/bokeh/release/bokeh-widgets-0.12.6.min.css\");\n",
       "      Bokeh.embed.inject_css(\"https://cdn.pydata.org/bokeh/release/bokeh-widgets-0.12.6.min.css\");\n",
       "    }\n",
       "  ];\n",
       "\n",
       "  function run_inline_js() {\n",
       "    \n",
       "    if ((window.Bokeh !== undefined) || (force === true)) {\n",
       "      for (var i = 0; i < inline_js.length; i++) {\n",
       "        inline_js[i](window.Bokeh);\n",
       "      }if (force === true) {\n",
       "        display_loaded();\n",
       "      }} else if (Date.now() < window._bokeh_timeout) {\n",
       "      setTimeout(run_inline_js, 100);\n",
       "    } else if (!window._bokeh_failed_load) {\n",
       "      console.log(\"Bokeh: BokehJS failed to load within specified timeout.\");\n",
       "      window._bokeh_failed_load = true;\n",
       "    } else if (force !== true) {\n",
       "      var cell = $(document.getElementById(\"1fa378be-3d83-4d7d-83cf-5d8c3fa13ea9\")).parents('.cell').data().cell;\n",
       "      cell.output_area.append_execute_result(NB_LOAD_WARNING)\n",
       "    }\n",
       "\n",
       "  }\n",
       "\n",
       "  if (window._bokeh_is_loading === 0) {\n",
       "    console.log(\"Bokeh: BokehJS loaded, going straight to plotting\");\n",
       "    run_inline_js();\n",
       "  } else {\n",
       "    load_libs(js_urls, function() {\n",
       "      console.log(\"Bokeh: BokehJS plotting callback run at\", now());\n",
       "      run_inline_js();\n",
       "    });\n",
       "  }\n",
       "}(this));"
      ]
     },
     "metadata": {},
     "output_type": "display_data"
    }
   ],
   "source": [
    "output_notebook()"
   ]
  },
  {
   "cell_type": "code",
   "execution_count": 42,
   "metadata": {},
   "outputs": [
    {
     "data": {
      "text/html": [
       "\n",
       "\n",
       "    <div class=\"bk-root\">\n",
       "        <div class=\"bk-plotdiv\" id=\"8a085c4a-7b58-4899-b85e-4ca59b253615\"></div>\n",
       "    </div>\n",
       "<script type=\"text/javascript\">\n",
       "  \n",
       "  (function(global) {\n",
       "    function now() {\n",
       "      return new Date();\n",
       "    }\n",
       "  \n",
       "    var force = false;\n",
       "  \n",
       "    if (typeof (window._bokeh_onload_callbacks) === \"undefined\" || force === true) {\n",
       "      window._bokeh_onload_callbacks = [];\n",
       "      window._bokeh_is_loading = undefined;\n",
       "    }\n",
       "  \n",
       "  \n",
       "    \n",
       "    if (typeof (window._bokeh_timeout) === \"undefined\" || force === true) {\n",
       "      window._bokeh_timeout = Date.now() + 0;\n",
       "      window._bokeh_failed_load = false;\n",
       "    }\n",
       "  \n",
       "    var NB_LOAD_WARNING = {'data': {'text/html':\n",
       "       \"<div style='background-color: #fdd'>\\n\"+\n",
       "       \"<p>\\n\"+\n",
       "       \"BokehJS does not appear to have successfully loaded. If loading BokehJS from CDN, this \\n\"+\n",
       "       \"may be due to a slow or bad network connection. Possible fixes:\\n\"+\n",
       "       \"</p>\\n\"+\n",
       "       \"<ul>\\n\"+\n",
       "       \"<li>re-rerun `output_notebook()` to attempt to load from CDN again, or</li>\\n\"+\n",
       "       \"<li>use INLINE resources instead, as so:</li>\\n\"+\n",
       "       \"</ul>\\n\"+\n",
       "       \"<code>\\n\"+\n",
       "       \"from bokeh.resources import INLINE\\n\"+\n",
       "       \"output_notebook(resources=INLINE)\\n\"+\n",
       "       \"</code>\\n\"+\n",
       "       \"</div>\"}};\n",
       "  \n",
       "    function display_loaded() {\n",
       "      if (window.Bokeh !== undefined) {\n",
       "        var el = document.getElementById(\"8a085c4a-7b58-4899-b85e-4ca59b253615\");\n",
       "        el.textContent = \"BokehJS \" + Bokeh.version + \" successfully loaded.\";\n",
       "      } else if (Date.now() < window._bokeh_timeout) {\n",
       "        setTimeout(display_loaded, 100)\n",
       "      }\n",
       "    }if ((window.Jupyter !== undefined) && Jupyter.notebook.kernel) {\n",
       "      comm_manager = Jupyter.notebook.kernel.comm_manager\n",
       "      comm_manager.register_target(\"1c7b8293-3a6b-4f97-b791-c17416d4d900\", function () {});\n",
       "    }\n",
       "  \n",
       "    function run_callbacks() {\n",
       "      try {\n",
       "        window._bokeh_onload_callbacks.forEach(function(callback) { callback() });\n",
       "      }\n",
       "      finally {\n",
       "        delete window._bokeh_onload_callbacks\n",
       "      }\n",
       "      console.info(\"Bokeh: all callbacks have finished\");\n",
       "    }\n",
       "  \n",
       "    function load_libs(js_urls, callback) {\n",
       "      window._bokeh_onload_callbacks.push(callback);\n",
       "      if (window._bokeh_is_loading > 0) {\n",
       "        console.log(\"Bokeh: BokehJS is being loaded, scheduling callback at\", now());\n",
       "        return null;\n",
       "      }\n",
       "      if (js_urls == null || js_urls.length === 0) {\n",
       "        run_callbacks();\n",
       "        return null;\n",
       "      }\n",
       "      console.log(\"Bokeh: BokehJS not loaded, scheduling load and callback at\", now());\n",
       "      window._bokeh_is_loading = js_urls.length;\n",
       "      for (var i = 0; i < js_urls.length; i++) {\n",
       "        var url = js_urls[i];\n",
       "        var s = document.createElement('script');\n",
       "        s.src = url;\n",
       "        s.async = false;\n",
       "        s.onreadystatechange = s.onload = function() {\n",
       "          window._bokeh_is_loading--;\n",
       "          if (window._bokeh_is_loading === 0) {\n",
       "            console.log(\"Bokeh: all BokehJS libraries loaded\");\n",
       "            run_callbacks()\n",
       "          }\n",
       "        };\n",
       "        s.onerror = function() {\n",
       "          console.warn(\"failed to load library \" + url);\n",
       "        };\n",
       "        console.log(\"Bokeh: injecting script tag for BokehJS library: \", url);\n",
       "        document.getElementsByTagName(\"head\")[0].appendChild(s);\n",
       "      }\n",
       "    };var element = document.getElementById(\"8a085c4a-7b58-4899-b85e-4ca59b253615\");\n",
       "    if (element == null) {\n",
       "      console.log(\"Bokeh: ERROR: autoload.js configured with elementid '8a085c4a-7b58-4899-b85e-4ca59b253615' but no matching script tag was found. \")\n",
       "      return false;\n",
       "    }\n",
       "  \n",
       "    var js_urls = [];\n",
       "  \n",
       "    var inline_js = [\n",
       "      function(Bokeh) {\n",
       "        (function() {\n",
       "          var fn = function() {\n",
       "            var docs_json = {\"64d5163f-61e0-4dd8-af36-f32c58c9fb93\":{\"roots\":{\"references\":[{\"attributes\":{\"plot\":null,\"text\":\"\"},\"id\":\"d449829c-5d70-4cf8-b632-6b216a6ef166\",\"type\":\"Title\"},{\"attributes\":{\"below\":[{\"id\":\"83daff24-6047-4ae0-85b8-9b9d791160cd\",\"type\":\"LinearAxis\"}],\"left\":[{\"id\":\"45411fc0-f536-43fb-990a-fc83eeeb594f\",\"type\":\"LinearAxis\"}],\"renderers\":[{\"id\":\"83daff24-6047-4ae0-85b8-9b9d791160cd\",\"type\":\"LinearAxis\"},{\"id\":\"8b51036f-dfc9-4d8a-ab61-b2270a8f25f5\",\"type\":\"Grid\"},{\"id\":\"45411fc0-f536-43fb-990a-fc83eeeb594f\",\"type\":\"LinearAxis\"},{\"id\":\"0b306451-3658-4eb7-aa47-91a049a80cff\",\"type\":\"Grid\"},{\"id\":\"df0d9ca3-1cbe-4b65-9a30-c863a2f5ca89\",\"type\":\"BoxAnnotation\"},{\"id\":\"1903c5b9-0b54-420d-9e7b-4527b17474a9\",\"type\":\"GlyphRenderer\"}],\"title\":{\"id\":\"d449829c-5d70-4cf8-b632-6b216a6ef166\",\"type\":\"Title\"},\"tool_events\":{\"id\":\"75d8575f-13e9-4142-b3e5-ed68321e86a5\",\"type\":\"ToolEvents\"},\"toolbar\":{\"id\":\"f6ba53fa-3c68-457b-b156-efc44256680a\",\"type\":\"Toolbar\"},\"x_range\":{\"id\":\"bc7bae5c-aaed-4494-9f6f-6cf65c64bef6\",\"type\":\"DataRange1d\"},\"x_scale\":{\"id\":\"bd1391f6-a8f3-497c-97a3-76254d6f24f4\",\"type\":\"LinearScale\"},\"y_range\":{\"id\":\"ef763269-63b6-4ee2-9f3a-d888b8e15e4b\",\"type\":\"DataRange1d\"},\"y_scale\":{\"id\":\"6401f3c1-da83-4348-adf3-3c7a0fc32ce3\",\"type\":\"LinearScale\"}},\"id\":\"3a8a8fc5-c647-4668-bff5-8471e70ebd2e\",\"subtype\":\"Figure\",\"type\":\"Plot\"},{\"attributes\":{},\"id\":\"bd1391f6-a8f3-497c-97a3-76254d6f24f4\",\"type\":\"LinearScale\"},{\"attributes\":{\"fill_alpha\":{\"value\":0.1},\"fill_color\":{\"value\":\"#1f77b4\"},\"line_alpha\":{\"value\":0.1},\"line_color\":{\"value\":\"#1f77b4\"},\"radius\":{\"field\":\"radius\",\"units\":\"data\"},\"x\":{\"field\":\"x\"},\"y\":{\"field\":\"y\"}},\"id\":\"ee5e9a47-51c9-4a39-a87f-152e3963f380\",\"type\":\"Circle\"},{\"attributes\":{\"bottom_units\":\"screen\",\"fill_alpha\":{\"value\":0.5},\"fill_color\":{\"value\":\"lightgrey\"},\"left_units\":\"screen\",\"level\":\"overlay\",\"line_alpha\":{\"value\":1.0},\"line_color\":{\"value\":\"black\"},\"line_dash\":[4,4],\"line_width\":{\"value\":2},\"plot\":null,\"render_mode\":\"css\",\"right_units\":\"screen\",\"top_units\":\"screen\"},\"id\":\"df0d9ca3-1cbe-4b65-9a30-c863a2f5ca89\",\"type\":\"BoxAnnotation\"},{\"attributes\":{},\"id\":\"6401f3c1-da83-4348-adf3-3c7a0fc32ce3\",\"type\":\"LinearScale\"},{\"attributes\":{\"active_drag\":\"auto\",\"active_inspect\":\"auto\",\"active_scroll\":\"auto\",\"active_tap\":\"auto\",\"tools\":[{\"id\":\"74ceb34b-e3f2-4cbf-bde3-caf020fc6563\",\"type\":\"PanTool\"},{\"id\":\"6994c411-9c47-4324-ad7a-b4d58dbd533b\",\"type\":\"WheelZoomTool\"},{\"id\":\"b564629b-ea07-4d94-9144-f9e91ddc2cf2\",\"type\":\"BoxZoomTool\"},{\"id\":\"bb4d7989-2f2b-4b50-834d-0986518f8e25\",\"type\":\"SaveTool\"},{\"id\":\"99fa56c1-6665-4094-bea8-4169c3da9f9c\",\"type\":\"ResetTool\"},{\"id\":\"eebbff5e-6eb9-4b3c-a903-a0ed9b54752f\",\"type\":\"HelpTool\"}]},\"id\":\"f6ba53fa-3c68-457b-b156-efc44256680a\",\"type\":\"Toolbar\"},{\"attributes\":{},\"id\":\"1442bdb2-54d1-4f20-9544-f55586130e81\",\"type\":\"BasicTickFormatter\"},{\"attributes\":{},\"id\":\"51944c96-29f0-4e94-9eae-a274bf527e60\",\"type\":\"BasicTicker\"},{\"attributes\":{\"plot\":{\"id\":\"3a8a8fc5-c647-4668-bff5-8471e70ebd2e\",\"subtype\":\"Figure\",\"type\":\"Plot\"}},\"id\":\"74ceb34b-e3f2-4cbf-bde3-caf020fc6563\",\"type\":\"PanTool\"},{\"attributes\":{\"plot\":{\"id\":\"3a8a8fc5-c647-4668-bff5-8471e70ebd2e\",\"subtype\":\"Figure\",\"type\":\"Plot\"}},\"id\":\"eebbff5e-6eb9-4b3c-a903-a0ed9b54752f\",\"type\":\"HelpTool\"},{\"attributes\":{\"plot\":{\"id\":\"3a8a8fc5-c647-4668-bff5-8471e70ebd2e\",\"subtype\":\"Figure\",\"type\":\"Plot\"}},\"id\":\"bb4d7989-2f2b-4b50-834d-0986518f8e25\",\"type\":\"SaveTool\"},{\"attributes\":{\"fill_alpha\":{\"value\":0.5},\"fill_color\":{\"value\":\"red\"},\"line_color\":{\"value\":\"#1f77b4\"},\"radius\":{\"field\":\"radius\",\"units\":\"data\"},\"x\":{\"field\":\"x\"},\"y\":{\"field\":\"y\"}},\"id\":\"2124b937-b349-4b6c-8d4c-03aa101e0732\",\"type\":\"Circle\"},{\"attributes\":{\"plot\":{\"id\":\"3a8a8fc5-c647-4668-bff5-8471e70ebd2e\",\"subtype\":\"Figure\",\"type\":\"Plot\"}},\"id\":\"6994c411-9c47-4324-ad7a-b4d58dbd533b\",\"type\":\"WheelZoomTool\"},{\"attributes\":{\"dimension\":1,\"plot\":{\"id\":\"3a8a8fc5-c647-4668-bff5-8471e70ebd2e\",\"subtype\":\"Figure\",\"type\":\"Plot\"},\"ticker\":{\"id\":\"4fa4e0af-139f-410d-b188-93749b7b072b\",\"type\":\"BasicTicker\"}},\"id\":\"0b306451-3658-4eb7-aa47-91a049a80cff\",\"type\":\"Grid\"},{\"attributes\":{\"plot\":{\"id\":\"3a8a8fc5-c647-4668-bff5-8471e70ebd2e\",\"subtype\":\"Figure\",\"type\":\"Plot\"}},\"id\":\"99fa56c1-6665-4094-bea8-4169c3da9f9c\",\"type\":\"ResetTool\"},{\"attributes\":{\"formatter\":{\"id\":\"4051cb8d-24d3-4fa8-86de-e09b818fbd9b\",\"type\":\"BasicTickFormatter\"},\"plot\":{\"id\":\"3a8a8fc5-c647-4668-bff5-8471e70ebd2e\",\"subtype\":\"Figure\",\"type\":\"Plot\"},\"ticker\":{\"id\":\"51944c96-29f0-4e94-9eae-a274bf527e60\",\"type\":\"BasicTicker\"}},\"id\":\"83daff24-6047-4ae0-85b8-9b9d791160cd\",\"type\":\"LinearAxis\"},{\"attributes\":{\"overlay\":{\"id\":\"df0d9ca3-1cbe-4b65-9a30-c863a2f5ca89\",\"type\":\"BoxAnnotation\"},\"plot\":{\"id\":\"3a8a8fc5-c647-4668-bff5-8471e70ebd2e\",\"subtype\":\"Figure\",\"type\":\"Plot\"}},\"id\":\"b564629b-ea07-4d94-9144-f9e91ddc2cf2\",\"type\":\"BoxZoomTool\"},{\"attributes\":{\"callback\":null},\"id\":\"bc7bae5c-aaed-4494-9f6f-6cf65c64bef6\",\"type\":\"DataRange1d\"},{\"attributes\":{\"plot\":{\"id\":\"3a8a8fc5-c647-4668-bff5-8471e70ebd2e\",\"subtype\":\"Figure\",\"type\":\"Plot\"},\"ticker\":{\"id\":\"51944c96-29f0-4e94-9eae-a274bf527e60\",\"type\":\"BasicTicker\"}},\"id\":\"8b51036f-dfc9-4d8a-ab61-b2270a8f25f5\",\"type\":\"Grid\"},{\"attributes\":{\"callback\":null},\"id\":\"ef763269-63b6-4ee2-9f3a-d888b8e15e4b\",\"type\":\"DataRange1d\"},{\"attributes\":{\"callback\":null,\"column_names\":[\"y\",\"radius\",\"x\"],\"data\":{\"radius\":{\"__ndarray__\":\"xsjKE3Zi7j/CT5XcFWryP6wD0BBSVvI/GznRy3vG5D/SXIu316jhP37tcIj7/fI/kYTRzNhP2j8c/r/w9pH3P6wOeHBH+9w/gbyyp0P38T+D/Rapd3zmP+OEwmsEZfM/8KZY/lvRpz9z7j188mT1P9zmrwFU6vQ/8EWNB4K2mj/Jo2xMiGT0P/AkHZHh6fY/uGoK1PACrT8jhciJ/XPeP1CmxqgO8qE/5NBaOo3/8j+dwbDQ7iv0P6TSutgAFLc/7lGYqAqlzT+YvyD5SQbwP9pivkzDuus/F6NJPfOY8j+2DuNVGbnhP/rq/X3Wc+k/BLlLivn28z8RdE1d/wfdP2tLNbyk/dI/JsnEtAfQzD/G2ssrriHkP2x93nYrLeE/pJCsOQC38j/Umi7Fx/3uP7a40xEjd/E/Blz0acUX9j/ZZzEtv7f2PzTEGnZmJ+o/DHwpGAsFvT8zcKJ6twbYP/Bo/k0xqvM/8dm+E57T9j+sCtiEZ5D0P1NICzOjUPE//NDO34pEvj8Ghjj6I0vtPw==\",\"dtype\":\"float64\",\"shape\":[50]},\"x\":{\"__ndarray__\":\"2n+6kiMiT0Aiz8siw6VWQL0LW1BAIlNABQT6wvoaWEB4AbVZ2z1SQCiM2x+I5kFAsiwIMn4RVUA1b8NXg/kIQAoE2XojVUxAU5oQOXlEIUBc3mn1s0xMQJZOksn6+1FARD5RlUBPK0DXpTuPWWhOQNc9uviREFZAvVaZOuKCMkDoh0gyJHggQMWX1H0eTVBA/Hr4V+uIVECqyyOK+f1UQLyAl5if5FZA642JSIyFK0A97AXJ5TJFQPC4ThmcTxxASYjc2CaDQ0B/zy08t3lTQIYQs9XVFENAK8Zs4iZ+V0DYUUY5UPAQQFUC2gl1+jZAiu0MiYUTN0C3FbH/lnpJQDLKZwcArEVA4nInDP6mUEARtbSiMg1WQIk3dOp9LVFAAZ7P24w2UUBPOMFubH1EQM+9SkzY1ERA+6SdKsuOWEDKETdjU+pRQJyXbiocUj1A+spdjXBF9z/jKhEC//RFQMdP5Unn5TVA5HY6R+PkV0A9p4TD/vBMQIlX/R/4tUBA639QpdxyWECynbFEmXFIQA==\",\"dtype\":\"float64\",\"shape\":[50]},\"y\":{\"__ndarray__\":\"GN645LwtQECgt7lhwr0/QEg4/5bwWytArpNLsuMUQEDaq+8adLtVQFnsve1kDEZASKJZiyvfP0DD3VW/658YQJ5aDLM8Rk1AUC/R8a1nVUCGdSHWb3w6QB76D/UD+VVAv39Fu2/SU0Ag2CD6o6dIQFG1tWk9MjtAGvDWAbmMUECplyM0cMhVQD6fOAIa6E5AyI/J8pO/UUDL24pnH8ZVQNJDE5g7LFJAROZFb6ShVkDaPW9ixbZUQFRTx5mppBxARy+f81zvJEAerEgSt55LQN+FUX0+0lBAxrixcHJxQkBjqlnURJJRQLCCVv6/KxxAE0oTAbIJRkAVKk+W38ZAQOkzOo3W7U5Au6Z7eQRLVkCRlF8KsplTQP0DgjSiEFRAa7k6/M9gV0BU+AfFhVNPQOGYuPSmY09AAH+WvNx4V0D6QDQhNUc3QJBhtTsPcc8/ibluLc/lUkAbaJ3pPgxVQK32KzLHAVZAnW4tek/yR0DNRNAziD1TQDa800jh3VZAiiVx2LmKVECtvUNU4Z5KQA==\",\"dtype\":\"float64\",\"shape\":[50]}}},\"id\":\"4f1d7aa6-a068-4b18-bba7-d0167b7beca3\",\"type\":\"ColumnDataSource\"},{\"attributes\":{\"data_source\":{\"id\":\"4f1d7aa6-a068-4b18-bba7-d0167b7beca3\",\"type\":\"ColumnDataSource\"},\"glyph\":{\"id\":\"2124b937-b349-4b6c-8d4c-03aa101e0732\",\"type\":\"Circle\"},\"hover_glyph\":null,\"muted_glyph\":null,\"nonselection_glyph\":{\"id\":\"ee5e9a47-51c9-4a39-a87f-152e3963f380\",\"type\":\"Circle\"},\"selection_glyph\":null},\"id\":\"1903c5b9-0b54-420d-9e7b-4527b17474a9\",\"type\":\"GlyphRenderer\"},{\"attributes\":{},\"id\":\"4051cb8d-24d3-4fa8-86de-e09b818fbd9b\",\"type\":\"BasicTickFormatter\"},{\"attributes\":{\"formatter\":{\"id\":\"1442bdb2-54d1-4f20-9544-f55586130e81\",\"type\":\"BasicTickFormatter\"},\"plot\":{\"id\":\"3a8a8fc5-c647-4668-bff5-8471e70ebd2e\",\"subtype\":\"Figure\",\"type\":\"Plot\"},\"ticker\":{\"id\":\"4fa4e0af-139f-410d-b188-93749b7b072b\",\"type\":\"BasicTicker\"}},\"id\":\"45411fc0-f536-43fb-990a-fc83eeeb594f\",\"type\":\"LinearAxis\"},{\"attributes\":{},\"id\":\"4fa4e0af-139f-410d-b188-93749b7b072b\",\"type\":\"BasicTicker\"},{\"attributes\":{},\"id\":\"75d8575f-13e9-4142-b3e5-ed68321e86a5\",\"type\":\"ToolEvents\"}],\"root_ids\":[\"3a8a8fc5-c647-4668-bff5-8471e70ebd2e\"]},\"title\":\"Bokeh Application\",\"version\":\"0.12.6\"}};\n",
       "            var render_items = [{\"docid\":\"64d5163f-61e0-4dd8-af36-f32c58c9fb93\",\"elementid\":\"8a085c4a-7b58-4899-b85e-4ca59b253615\",\"modelid\":\"3a8a8fc5-c647-4668-bff5-8471e70ebd2e\",\"notebook_comms_target\":\"1c7b8293-3a6b-4f97-b791-c17416d4d900\"}];\n",
       "            \n",
       "            Bokeh.embed.embed_items(docs_json, render_items);\n",
       "          };\n",
       "          if (document.readyState != \"loading\") fn();\n",
       "          else document.addEventListener(\"DOMContentLoaded\", fn);\n",
       "        })();\n",
       "      },\n",
       "      function(Bokeh) {\n",
       "      }\n",
       "    ];\n",
       "  \n",
       "    function run_inline_js() {\n",
       "      \n",
       "      if ((window.Bokeh !== undefined) || (force === true)) {\n",
       "        for (var i = 0; i < inline_js.length; i++) {\n",
       "          inline_js[i](window.Bokeh);\n",
       "        }if (force === true) {\n",
       "          display_loaded();\n",
       "        }} else if (Date.now() < window._bokeh_timeout) {\n",
       "        setTimeout(run_inline_js, 100);\n",
       "      } else if (!window._bokeh_failed_load) {\n",
       "        console.log(\"Bokeh: BokehJS failed to load within specified timeout.\");\n",
       "        window._bokeh_failed_load = true;\n",
       "      } else if (force !== true) {\n",
       "        var cell = $(document.getElementById(\"8a085c4a-7b58-4899-b85e-4ca59b253615\")).parents('.cell').data().cell;\n",
       "        cell.output_area.append_execute_result(NB_LOAD_WARNING)\n",
       "      }\n",
       "  \n",
       "    }\n",
       "  \n",
       "    if (window._bokeh_is_loading === 0) {\n",
       "      console.log(\"Bokeh: BokehJS loaded, going straight to plotting\");\n",
       "      run_inline_js();\n",
       "    } else {\n",
       "      load_libs(js_urls, function() {\n",
       "        console.log(\"Bokeh: BokehJS plotting callback run at\", now());\n",
       "        run_inline_js();\n",
       "      });\n",
       "    }\n",
       "  }(this));\n",
       "</script>"
      ]
     },
     "metadata": {},
     "output_type": "display_data"
    }
   ],
   "source": [
    "plt = bp.figure()\n",
    "x1 = plt.circle(x,y,radius=radii,fill_color=\"red\",fill_alpha=0.5)\n",
    "\n",
    "t = show(plt, notebook_handle=True)"
   ]
  },
  {
   "cell_type": "code",
   "execution_count": 45,
   "metadata": {},
   "outputs": [],
   "source": [
    "x1.glyph.fill_color = \"orange\"\n",
    "push_notebook(handle=t)"
   ]
  },
  {
   "cell_type": "code",
   "execution_count": 21,
   "metadata": {},
   "outputs": [
    {
     "data": {
      "text/html": [
       "<iframe width=\"560\" height=\"315\" src=\"https://www.youtube.com/embed/HW29067qVWk\" frameborder=\"0\" allowfullscreen></iframe>"
      ],
      "text/plain": [
       "<IPython.core.display.HTML object>"
      ]
     },
     "metadata": {},
     "output_type": "display_data"
    }
   ],
   "source": [
    "%%html\n",
    "<iframe width=\"560\" height=\"315\" src=\"https://www.youtube.com/embed/HW29067qVWk\" frameborder=\"0\" allowfullscreen></iframe>"
   ]
  },
  {
   "cell_type": "code",
   "execution_count": 4,
   "metadata": {},
   "outputs": [
    {
     "name": "stdout",
     "output_type": "stream",
     "text": [
      "10000 loops, best of 3: 74.9 µs per loop\n"
     ]
    }
   ],
   "source": [
    "%%timeit\n",
    "square_evens = [n*n for n in range(1000)]"
   ]
  },
  {
   "cell_type": "code",
   "execution_count": null,
   "metadata": {
    "collapsed": true
   },
   "outputs": [],
   "source": []
  }
 ],
 "metadata": {
  "kernelspec": {
   "display_name": "Python 2",
   "language": "python",
   "name": "python2"
  },
  "language_info": {
   "codemirror_mode": {
    "name": "ipython",
    "version": 2
   },
   "file_extension": ".py",
   "mimetype": "text/x-python",
   "name": "python",
   "nbconvert_exporter": "python",
   "pygments_lexer": "ipython2",
   "version": "2.7.8"
  }
 },
 "nbformat": 4,
 "nbformat_minor": 2
}
